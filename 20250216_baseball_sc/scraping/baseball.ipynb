{
 "cells": [
  {
   "cell_type": "code",
   "execution_count": null,
   "metadata": {},
   "outputs": [],
   "source": [
    "import requests\n",
    "from bs4 import BeautifulSoup\n",
    "import pandas as pd"
   ]
  },
  {
   "cell_type": "code",
   "execution_count": null,
   "metadata": {},
   "outputs": [],
   "source": [
    "import requests\n",
    "from bs4 import BeautifulSoup\n",
    "import pandas as pd\n",
    "\n",
    "# NPBのページURL\n",
    "url = \"https://npb.jp/bis/teams/\"\n",
    "\n",
    "# HTMLを取得\n",
    "headers = {\"User-Agent\": \"Mozilla/5.0\"}\n",
    "response = requests.get(url, headers=headers)\n",
    "response.encoding = response.apparent_encoding  # 文字化け防止\n",
    "soup = BeautifulSoup(response.text, \"html.parser\")\n",
    "\n",
    "# データを格納するリスト\n",
    "teams_data = []\n",
    "\n",
    "# `<h4>` タグ（リーグ名）を取得\n",
    "for h4_tag in soup.find_all(\"h4\"):\n",
    "    league_name = h4_tag.text.strip()  # リーグ名（例: CENTRAL LEAGUE）\n",
    "\n",
    "    # `<h4>` タグの次の `<ul>` 内のチーム情報を取得\n",
    "    ul_tag = h4_tag.find_next(\"ul\")\n",
    "    if ul_tag:\n",
    "        for a_tag in ul_tag.find_all(\"a\", href=True):\n",
    "            team_name = a_tag.text.strip()  # チーム名\n",
    "            team_url = a_tag[\"href\"]  # チームページURL（相対URL）\n",
    "\n",
    "            # ロゴ画像 (`.png` を含む `<img>` タグを探す)\n",
    "            img_tag = a_tag.find(\"img\", src=True)\n",
    "            logo_url = img_tag[\"src\"] if img_tag and \".png\" in img_tag[\"src\"] else None\n",
    "\n",
    "            # 相対URLを絶対URLに変換\n",
    "            if not team_url.startswith(\"http\"):\n",
    "                team_url = f\"https://npb.jp/bis/teams/{team_url}\"\n",
    "            if logo_url and not logo_url.startswith(\"http\"):\n",
    "                logo_url = f\"https:{logo_url}\"\n",
    "\n",
    "            # データをリストに追加\n",
    "            teams_data.append([league_name, team_name, logo_url, team_url])\n",
    "\n",
    "# pandasでデータフレーム作成\n",
    "df_team = pd.DataFrame(teams_data, columns=[\"リーグ名\", \"チーム名\", \"ロゴURL\", \"チームページURL\"])\n",
    "\n",
    "df_team.head(20)"
   ]
  },
  {
   "cell_type": "code",
   "execution_count": null,
   "metadata": {},
   "outputs": [],
   "source": [
    "data = []\n",
    "\n",
    "for team_name, url in zip(df[\"チーム名\"], df[\"チームページURL\"]):\n",
    "    response = requests.get(url, headers=headers)\n",
    "    response.raise_for_status()  # エラーチェック\n",
    "    \n",
    "    # 自動エンコーディング適用\n",
    "    response.encoding = response.apparent_encoding\n",
    "\n",
    "    # HTMLを解析\n",
    "    soup = BeautifulSoup(response.text, \"html.parser\")\n",
    "\n",
    "    # 選手一覧の取得 (tr class=\"rosterPlayer\")\n",
    "    players = soup.find_all(\"tr\", class_=\"rosterPlayer\")\n",
    "\n",
    "    # 各選手の情報を取得\n",
    "    for player in players:\n",
    "        columns = player.find_all(\"td\")  # 各列（tdタグ）\n",
    "        if len(columns) >= 5:  # 必要な情報が入っているか確認\n",
    "            number = columns[0].text.strip()  # 背番号\n",
    "            name = columns[1].text.strip()    # 選手名\n",
    "            height = columns[3].text.strip()  # 身長\n",
    "            weight = columns[4].text.strip()  # 体重\n",
    "            data.append([team_name, number, name, height, weight])\n",
    "\n",
    "df_players = pd.DataFrame(data, columns=[\"team\", \"number\", \"name\", \"height\", \"weight\"])\n",
    "df_players.head(10)"
   ]
  },
  {
   "cell_type": "code",
   "execution_count": null,
   "metadata": {},
   "outputs": [],
   "source": [
    "# JSONに変換（辞書形式）\n",
    "json_data = df_players.to_json(orient=\"records\", force_ascii=False)\n",
    "\n",
    "# ファイル保存（iOSアプリに渡す）\n",
    "with open(\"players.json\", \"w\", encoding=\"utf-8\") as f:\n",
    "    f.write(json_data)"
   ]
  },
  {
   "cell_type": "code",
   "execution_count": null,
   "metadata": {},
   "outputs": [],
   "source": []
  }
 ],
 "metadata": {
  "kernelspec": {
   "display_name": "webapp",
   "language": "python",
   "name": "python3"
  },
  "language_info": {
   "codemirror_mode": {
    "name": "ipython",
    "version": 3
   },
   "file_extension": ".py",
   "mimetype": "text/x-python",
   "name": "python",
   "nbconvert_exporter": "python",
   "pygments_lexer": "ipython3",
   "version": "3.11.4"
  }
 },
 "nbformat": 4,
 "nbformat_minor": 2
}
